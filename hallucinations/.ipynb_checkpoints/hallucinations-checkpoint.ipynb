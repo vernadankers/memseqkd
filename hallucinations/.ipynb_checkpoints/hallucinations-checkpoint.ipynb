{
 "cells": [
  {
   "cell_type": "code",
   "execution_count": 1,
   "id": "ffb88831",
   "metadata": {},
   "outputs": [],
   "source": [
    "import pickle\n",
    "import os"
   ]
  },
  {
   "cell_type": "code",
   "execution_count": 29,
   "id": "0508bd6a",
   "metadata": {},
   "outputs": [
    {
     "name": "stdout",
     "output_type": "stream",
     "text": [
      "0.02\n",
      "0.029\n",
      "0.01\n",
      "0.008\n",
      "0.007\n",
      "0.021\n",
      "0.033\n",
      "0.035\n",
      "0.005\n",
      "0.029\n",
      "0.016\n",
      "0.036\n"
     ]
    }
   ],
   "source": [
    "corpus = \"commoncrawl\"\n",
    "for langpair in [\"en-de\"]:\n",
    "    all_oschal = dict()\n",
    "    all_nathal = dict()\n",
    "\n",
    "    for fn in os.listdir(langpair):\n",
    "        # print(fn)\n",
    "        if \".pickle\" in fn and corpus in fn:\n",
    "            #if \"nathal\" in fn and \"unique\" in fn:\n",
    "            #    all_nathal.update(pickle.load(open(f\"{langpair}/{fn}\", 'rb')))\n",
    "            if \"oschal\" in fn:\n",
    "                all_oschal.update(pickle.load(open(f\"{langpair}/{fn}\", 'rb')))\n",
    "\n",
    "    if langpair in [\"de-en\", \"pl-en\", \"en-pl\"]:\n",
    "        models = ['teacher_seed=1111', \"student_b=1_seed=1111\", \"baseline_seed=1111\"]\n",
    "    elif langpair == \"en-de\":\n",
    "        models = ['teacher_seed=1111', \"student_b=1_seed=1111\", \"student_b=2_seed=1111\",\n",
    "                  \"student_b=5_seed=1111\", \"student_b=10_seed=1111\", \"baseline_seed=1111\",\n",
    "                  \"student_b=1_small_seed=1111\", \"student_b=1_big_seed=1111\",]\n",
    "    elif langpair == \"fr-de\":\n",
    "        models = ['teacher_seed=1111', \"student_b=1_seed=1111\", \"student_b=2_seed=1111\",\n",
    "                  \"student_b=5_seed=1111\", \"student_b=10_seed=1111\", \"baseline_seed=1111\"]\n",
    "    models += [\"teacher_seed=1111_finetuned_hq\", \"teacher_seed=1111_finetuned_random\",\n",
    "               \"student_b=1_seed=1111_finetuned_hq\", \"student_b=1_seed=1111_finetuned_random\"]\n",
    "    for model in models:\n",
    "#         try:\n",
    "        print(round(all_oschal[model]['short_hal'],3))\n",
    "#         except:\n",
    "#             print(langpair, all_oschal[model + \"_\"]['long_hal'])\n",
    "        #print(round(all_nathal[model]['score_0.85'], 3))\n",
    "    pickle.dump(all_oschal, open(f\"{langpair}/oschal_{corpus}_all.pickle\", 'wb'))\n",
    "    if corpus == \"train\":\n",
    "        pickle.dump(all_nathal, open(f\"{langpair}/nathal_{corpus}_all.pickle\", 'wb'))"
   ]
  },
  {
   "cell_type": "code",
   "execution_count": 20,
   "id": "8ae57760",
   "metadata": {},
   "outputs": [
    {
     "data": {
      "text/plain": [
       "-32.9113924050633"
      ]
     },
     "execution_count": 20,
     "metadata": {},
     "output_type": "execute_result"
    }
   ],
   "source": [
    "(0.0018-0.0025)/0.0025*100\n",
    "(0.0053-0.0079)/0.0079*100"
   ]
  },
  {
   "cell_type": "code",
   "execution_count": null,
   "id": "2457498d",
   "metadata": {},
   "outputs": [],
   "source": [
    "for langpair in [\"en-de\"]:\n",
    "    all_nathal = dict()\n",
    "    for fn in os.listdir(langpair):\n",
    "        if \".pickle\" in fn and \"train\" in fn:\n",
    "            if \"nathal\" in fn and \"unique\" in fn:\n",
    "                all_nathal.update(pickle.load(open(f\"{langpair}/{fn}\", 'rb')))\n",
    "\n",
    "def get(i):\n",
    "    with open(\"../wmt20/en-de/train.en\", encoding='utf-8') as f:\n",
    "        for j, l in enumerate(f):\n",
    "            if i == j:\n",
    "                src = l\n",
    "                break\n",
    "    with open(\"../model_zoo/en-de/teacher_seed=1111/kd.beam1.de\", encoding='utf-8') as f:\n",
    "        for j, l in enumerate(f):\n",
    "            if i == j:\n",
    "                trg = l\n",
    "                break\n",
    "    return src, trg\n",
    "\n",
    "all_nathal[\"teacher_seed=1111\"][\"cases\"][0]\n",
    "get(38636010)\n",
    "\n",
    "for i, j in enumerate(all_nathal[\"teacher_seed=1111\"][\"cases\"]):\n",
    "    print(get(j))\n",
    "    print(all_nathal[\"teacher_seed=1111\"][\"comet\"][i])\n",
    "    "
   ]
  },
  {
   "cell_type": "code",
   "execution_count": null,
   "id": "4fedfa0c",
   "metadata": {},
   "outputs": [],
   "source": [
    "import pickle\n",
    "import os\n",
    "\n",
    "for langpair in [\"fr-de\", 'en-pl']:\n",
    "    a = pickle.load(open(f\"{langpair}/oschal_commoncrawl_4_commoncrawl.pickle\", 'rb'))\n",
    "    b = pickle.load(open(f\"{langpair}/oschal_commoncrawl_6_commoncrawl.pickle\", 'rb'))\n",
    "    c = pickle.load(open(f\"{langpair}/oschal_commoncrawl_8_commoncrawl.pickle\", 'rb'))\n",
    "    d = pickle.load(open(f\"{langpair}/oschal_commoncrawl_10_commoncrawl.pickle\", 'rb'))\n",
    "\n",
    "    x, y, z = [], [], []\n",
    "    models = ['student_b=1_seed=1111', 'baseline_seed=1111', 'student_b=1_seed=1111_finetuned_hq', 'student_b=1_seed=1111_finetuned_random']\n",
    "    for model in models:\n",
    "        x.extend([model]*4)\n",
    "        y.extend([a[model]['long_hal'], b[model]['long_hal'], c[model]['long_hal'], d[model]['long_hal']])\n",
    "        z.extend([4, 6, 8, 10])\n",
    "\n",
    "    import matplotlib.pyplot as plt\n",
    "    import seaborn as sns\n",
    "\n",
    "    sns.lineplot(x=z, y=y, hue=x, marker='s')\n",
    "    plt.xlabel(\"threshold\")\n",
    "    plt.ylabel(\"oschal rate\")\n",
    "    plt.title(f\"{langpair}\")\n",
    "    plt.show()"
   ]
  },
  {
   "cell_type": "code",
   "execution_count": null,
   "id": "5d6c894e",
   "metadata": {},
   "outputs": [],
   "source": []
  }
 ],
 "metadata": {
  "kernelspec": {
   "display_name": "Python 3 (ipykernel)",
   "language": "python",
   "name": "python3"
  },
  "language_info": {
   "codemirror_mode": {
    "name": "ipython",
    "version": 3
   },
   "file_extension": ".py",
   "mimetype": "text/x-python",
   "name": "python",
   "nbconvert_exporter": "python",
   "pygments_lexer": "ipython3",
   "version": "3.9.13"
  }
 },
 "nbformat": 4,
 "nbformat_minor": 5
}
